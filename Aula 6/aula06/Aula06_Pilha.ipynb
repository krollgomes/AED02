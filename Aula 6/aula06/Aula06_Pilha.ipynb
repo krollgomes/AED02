{
 "cells": [
  {
   "cell_type": "markdown",
   "metadata": {},
   "source": [
    "![Algoritmos e Estrutura de Dados II - Prof Piva](AED2_banner.jpg)"
   ]
  },
  {
   "cell_type": "markdown",
   "metadata": {
    "id": "3L3hMZxPloS9"
   },
   "source": [
    "## Aula 6 - Pilhas"
   ]
  },
  {
   "cell_type": "markdown",
   "metadata": {},
   "source": [
    "### Primeira Implementação"
   ]
  },
  {
   "cell_type": "code",
   "execution_count": null,
   "metadata": {},
   "outputs": [],
   "source": [
    "# Implementacao da classe Pilha\n",
    "class Stack:\n",
    "    # Inicia com uma pilha vazia\n",
    "    def __init__(self):\n",
    "        self.itens = []\n",
    "    \n",
    "    # Verifica se pilha esta vazia\n",
    "    def is_empty(self):\n",
    "        return self.itens == []\n",
    "    \n",
    "    # Adiciona elemento no topo (topo e o final da lista)\n",
    "    def push(self, item):\n",
    "        self.itens.append(item)\n",
    "        print(f\"PUSH {item}\")\n",
    "\n",
    "    # Remove elemento do topo (final da lista)\n",
    "    def pop(self):\n",
    "        print(\"POP\")\n",
    "        return self.itens.pop()\n",
    "    \n",
    "    # Obtem o elemento do topo (mas nao remove)\n",
    "    def peek(self):\n",
    "    # Em Python, indice -1 retorna ultimo elemento (topo)\n",
    "        return self.itens[-1]\n",
    "    \n",
    "    # Retorna o numero de elementos da pilha\n",
    "    def size(self):\n",
    "        return len(self.itens)\n",
    "    \n",
    "    # Imprime pilha na tela\n",
    "    def print_stack(self):\n",
    "        print(self.itens)"
   ]
  },
  {
   "cell_type": "code",
   "execution_count": null,
   "metadata": {},
   "outputs": [],
   "source": [
    "# TESTANDO\n",
    "S = Stack()"
   ]
  },
  {
   "cell_type": "code",
   "execution_count": null,
   "metadata": {},
   "outputs": [],
   "source": [
    "S.print_stack()"
   ]
  },
  {
   "cell_type": "code",
   "execution_count": null,
   "metadata": {},
   "outputs": [],
   "source": [
    "S.push(1)"
   ]
  },
  {
   "cell_type": "code",
   "execution_count": null,
   "metadata": {},
   "outputs": [],
   "source": [
    "S.push(2)"
   ]
  },
  {
   "cell_type": "code",
   "execution_count": null,
   "metadata": {},
   "outputs": [],
   "source": [
    "S.push(3)"
   ]
  },
  {
   "cell_type": "code",
   "execution_count": null,
   "metadata": {},
   "outputs": [],
   "source": [
    "S.print_stack()"
   ]
  },
  {
   "cell_type": "code",
   "execution_count": null,
   "metadata": {},
   "outputs": [],
   "source": [
    "S.pop()"
   ]
  },
  {
   "cell_type": "code",
   "execution_count": null,
   "metadata": {},
   "outputs": [],
   "source": [
    "S.pop()"
   ]
  },
  {
   "cell_type": "code",
   "execution_count": null,
   "metadata": {},
   "outputs": [],
   "source": [
    "S.print_stack()"
   ]
  },
  {
   "cell_type": "code",
   "execution_count": null,
   "metadata": {},
   "outputs": [],
   "source": [
    "S.push(7)"
   ]
  },
  {
   "cell_type": "code",
   "execution_count": null,
   "metadata": {},
   "outputs": [],
   "source": [
    "S.push(8)"
   ]
  },
  {
   "cell_type": "code",
   "execution_count": null,
   "metadata": {},
   "outputs": [],
   "source": [
    "S.push(9)"
   ]
  },
  {
   "cell_type": "code",
   "execution_count": null,
   "metadata": {},
   "outputs": [],
   "source": [
    "S.print_stack()"
   ]
  },
  {
   "cell_type": "code",
   "execution_count": null,
   "metadata": {},
   "outputs": [],
   "source": [
    "print(S.is_empty())"
   ]
  },
  {
   "cell_type": "markdown",
   "metadata": {},
   "source": [
    "### Segunda Implementação"
   ]
  },
  {
   "cell_type": "code",
   "execution_count": 1,
   "metadata": {
    "id": "7R1oTn1dqV1l"
   },
   "outputs": [],
   "source": [
    "import numpy as np"
   ]
  },
  {
   "cell_type": "code",
   "execution_count": 2,
   "metadata": {
    "id": "uTsNap9FqYXN"
   },
   "outputs": [],
   "source": [
    "class Pilha:\n",
    "    def __init__(self, capacidade):\n",
    "        self.__capacidade = capacidade\n",
    "        self.__topo = -1\n",
    "        self.__valores = np.zeros(self.__capacidade, dtype=int)\n",
    "\n",
    "    def __pilha_cheia(self):\n",
    "        if self.__topo == self.__capacidade - 1:\n",
    "            return True\n",
    "        else:\n",
    "            return False\n",
    "    \n",
    "    def __pilha_vazia(self):\n",
    "        if self.__topo == -1:\n",
    "            return True\n",
    "        else:\n",
    "            return False\n",
    "    \n",
    "    def empilhar(self, valor):\n",
    "        if self.__pilha_cheia():\n",
    "            print('A pilha está cheia')\n",
    "        else:\n",
    "            self.__topo += 1\n",
    "            self.__valores[self.__topo] = valor\n",
    "    \n",
    "    def desempilhar(self):\n",
    "        if self.__pilha_vazia():\n",
    "            print('A pilha está vazia')\n",
    "        else:\n",
    "            self.__valores[self.__topo] = 0\n",
    "            self.__topo -= 1\n",
    "    \n",
    "    def ver_topo(self):\n",
    "        if self.__topo != -1:\n",
    "            return self.__valores[self.__topo]\n",
    "        else:\n",
    "            return -1\n",
    "    \n",
    "    # Imprime pilha na tela\n",
    "    def imprime_pilha(self):\n",
    "        print(self.__valores)"
   ]
  },
  {
   "cell_type": "code",
   "execution_count": 3,
   "metadata": {
    "id": "QtWvabeOq-0U"
   },
   "outputs": [],
   "source": [
    "pilha = Pilha(5)"
   ]
  },
  {
   "cell_type": "code",
   "execution_count": 4,
   "metadata": {},
   "outputs": [
    {
     "name": "stdout",
     "output_type": "stream",
     "text": [
      "[0 0 0 0 0]\n"
     ]
    }
   ],
   "source": [
    "pilha.imprime_pilha()"
   ]
  },
  {
   "cell_type": "code",
   "execution_count": 5,
   "metadata": {
    "colab": {
     "base_uri": "https://localhost:8080/",
     "height": 55
    },
    "id": "MNlDMfOHrCRL",
    "outputId": "7ab89260-93e2-4f48-8931-6d9738c1e19a"
   },
   "outputs": [
    {
     "data": {
      "text/plain": [
       "-1"
      ]
     },
     "execution_count": 5,
     "metadata": {},
     "output_type": "execute_result"
    }
   ],
   "source": [
    "pilha.ver_topo()"
   ]
  },
  {
   "cell_type": "code",
   "execution_count": 6,
   "metadata": {
    "colab": {
     "base_uri": "https://localhost:8080/",
     "height": 55
    },
    "id": "LPneWEkaspzr",
    "outputId": "382175e0-1c18-4517-8aaa-a64f4a2f5297"
   },
   "outputs": [
    {
     "data": {
      "text/plain": [
       "np.int64(1)"
      ]
     },
     "execution_count": 6,
     "metadata": {},
     "output_type": "execute_result"
    }
   ],
   "source": [
    "pilha.empilhar(1)\n",
    "pilha.ver_topo()"
   ]
  },
  {
   "cell_type": "code",
   "execution_count": 7,
   "metadata": {
    "id": "DESk3CzKs3Jr"
   },
   "outputs": [],
   "source": [
    "pilha.empilhar(1)\n",
    "pilha.empilhar(2)\n",
    "pilha.empilhar(3)\n",
    "pilha.empilhar(4)"
   ]
  },
  {
   "cell_type": "code",
   "execution_count": 8,
   "metadata": {},
   "outputs": [
    {
     "name": "stdout",
     "output_type": "stream",
     "text": [
      "[1 1 2 3 4]\n"
     ]
    }
   ],
   "source": [
    "pilha.imprime_pilha()"
   ]
  },
  {
   "cell_type": "code",
   "execution_count": 9,
   "metadata": {
    "colab": {
     "base_uri": "https://localhost:8080/",
     "height": 55
    },
    "id": "ggPHGUVqs6oi",
    "outputId": "fb8b8854-d995-49c5-c71d-11001cf569cd"
   },
   "outputs": [
    {
     "name": "stdout",
     "output_type": "stream",
     "text": [
      "A pilha está cheia\n"
     ]
    }
   ],
   "source": [
    "pilha.empilhar(6)"
   ]
  },
  {
   "cell_type": "code",
   "execution_count": 10,
   "metadata": {
    "colab": {
     "base_uri": "https://localhost:8080/",
     "height": 55
    },
    "id": "RhoPtGMOs_XH",
    "outputId": "c858ad80-9fef-4506-ff7f-6ff211dfa2c1"
   },
   "outputs": [
    {
     "data": {
      "text/plain": [
       "np.int64(4)"
      ]
     },
     "execution_count": 10,
     "metadata": {},
     "output_type": "execute_result"
    }
   ],
   "source": [
    "pilha.ver_topo()"
   ]
  },
  {
   "cell_type": "code",
   "execution_count": 11,
   "metadata": {
    "id": "5HWGcf7BtE8G"
   },
   "outputs": [],
   "source": [
    "pilha.desempilhar()"
   ]
  },
  {
   "cell_type": "code",
   "execution_count": 12,
   "metadata": {
    "colab": {
     "base_uri": "https://localhost:8080/",
     "height": 55
    },
    "id": "wfmWii0UtHPG",
    "outputId": "3a1a9ca0-0a67-4764-9c93-a1db47951afb"
   },
   "outputs": [
    {
     "data": {
      "text/plain": [
       "np.int64(3)"
      ]
     },
     "execution_count": 12,
     "metadata": {},
     "output_type": "execute_result"
    }
   ],
   "source": [
    "pilha.ver_topo()"
   ]
  },
  {
   "cell_type": "code",
   "execution_count": 19,
   "metadata": {
    "id": "2UKSXChKtMbj"
   },
   "outputs": [
    {
     "name": "stdout",
     "output_type": "stream",
     "text": [
      "A pilha está vazia\n",
      "A pilha está vazia\n"
     ]
    }
   ],
   "source": [
    "pilha.desempilhar()\n",
    "pilha.desempilhar()\n",
    "pilha.desempilhar()"
   ]
  },
  {
   "cell_type": "code",
   "execution_count": 20,
   "metadata": {
    "colab": {
     "base_uri": "https://localhost:8080/",
     "height": 55
    },
    "id": "Vmi31QQUtTJO",
    "outputId": "7af8c276-9f04-4d31-937d-575e24205995"
   },
   "outputs": [
    {
     "data": {
      "text/plain": [
       "-1"
      ]
     },
     "execution_count": 20,
     "metadata": {},
     "output_type": "execute_result"
    }
   ],
   "source": [
    "pilha.ver_topo()"
   ]
  },
  {
   "cell_type": "code",
   "execution_count": 14,
   "metadata": {},
   "outputs": [
    {
     "name": "stdout",
     "output_type": "stream",
     "text": [
      "[1 1 2 3 0]\n"
     ]
    }
   ],
   "source": [
    "pilha.imprime_pilha()"
   ]
  },
  {
   "cell_type": "code",
   "execution_count": 21,
   "metadata": {
    "colab": {
     "base_uri": "https://localhost:8080/",
     "height": 55
    },
    "id": "fTia1ivdtei2",
    "outputId": "b1306403-9418-4a41-ecd2-388c8722d4b0"
   },
   "outputs": [
    {
     "name": "stdout",
     "output_type": "stream",
     "text": [
      "A pilha está vazia\n"
     ]
    }
   ],
   "source": [
    "pilha.desempilhar()"
   ]
  },
  {
   "cell_type": "code",
   "execution_count": 22,
   "metadata": {},
   "outputs": [
    {
     "name": "stdout",
     "output_type": "stream",
     "text": [
      "[0 0 0 0 0]\n"
     ]
    }
   ],
   "source": [
    "pilha.imprime_pilha()"
   ]
  },
  {
   "cell_type": "code",
   "execution_count": 23,
   "metadata": {},
   "outputs": [
    {
     "name": "stdout",
     "output_type": "stream",
     "text": [
      "A pilha está vazia\n"
     ]
    }
   ],
   "source": [
    "pilha.desempilhar()"
   ]
  },
  {
   "cell_type": "markdown",
   "metadata": {},
   "source": [
    "# Vamos à Prática!\n",
    "## Exercício"
   ]
  },
  {
   "cell_type": "markdown",
   "metadata": {},
   "source": [
    "Utilização de pilhas para conversão de números inteiros em decimal para binário (método da divisão sucessiva por 2)."
   ]
  },
  {
   "cell_type": "markdown",
   "metadata": {},
   "source": [
    "**Utilização do classe Stack..**"
   ]
  },
  {
   "cell_type": "code",
   "execution_count": 24,
   "metadata": {},
   "outputs": [],
   "source": [
    "# Função que converte um número decimal para binário\n",
    "def decimal_binario(numero):\n",
    " s = Stack()\n",
    " while numero > 0:\n",
    "     resto = numero % 2\n",
    "     s.push(resto)\n",
    "     numero = numero // 2\n",
    " binario = ''\n",
    " while not s.is_empty():\n",
    "     binario = binario + str(s.pop())\n",
    " return binario"
   ]
  },
  {
   "cell_type": "markdown",
   "metadata": {},
   "source": [
    "### Testando!\n",
    "233 --> binário"
   ]
  },
  {
   "cell_type": "code",
   "execution_count": 26,
   "metadata": {},
   "outputs": [
    {
     "name": "stdin",
     "output_type": "stream",
     "text": [
      "Entre com um número inteiro:  27\n"
     ]
    },
    {
     "ename": "NameError",
     "evalue": "name 'Stack' is not defined",
     "output_type": "error",
     "traceback": [
      "\u001b[1;31m---------------------------------------------------------------------------\u001b[0m",
      "\u001b[1;31mNameError\u001b[0m                                 Traceback (most recent call last)",
      "Cell \u001b[1;32mIn[26], line 3\u001b[0m\n\u001b[0;32m      1\u001b[0m \u001b[38;5;66;03m# TESTANDO\u001b[39;00m\n\u001b[0;32m      2\u001b[0m n \u001b[38;5;241m=\u001b[39m \u001b[38;5;28mint\u001b[39m(\u001b[38;5;28minput\u001b[39m(\u001b[38;5;124m'\u001b[39m\u001b[38;5;124mEntre com um número inteiro: \u001b[39m\u001b[38;5;124m'\u001b[39m))\n\u001b[1;32m----> 3\u001b[0m \u001b[38;5;28mprint\u001b[39m(\u001b[38;5;124mf\u001b[39m\u001b[38;5;124m\"\u001b[39m\u001b[38;5;124mO valor \u001b[39m\u001b[38;5;132;01m{\u001b[39;00mn\u001b[38;5;132;01m}\u001b[39;00m\u001b[38;5;124m em binário é: \u001b[39m\u001b[38;5;132;01m{\u001b[39;00mdecimal_binario(n)\u001b[38;5;132;01m}\u001b[39;00m\u001b[38;5;124m\"\u001b[39m)\n",
      "Cell \u001b[1;32mIn[24], line 3\u001b[0m, in \u001b[0;36mdecimal_binario\u001b[1;34m(numero)\u001b[0m\n\u001b[0;32m      2\u001b[0m \u001b[38;5;28;01mdef\u001b[39;00m\u001b[38;5;250m \u001b[39m\u001b[38;5;21mdecimal_binario\u001b[39m(numero):\n\u001b[1;32m----> 3\u001b[0m  s \u001b[38;5;241m=\u001b[39m Stack()\n\u001b[0;32m      4\u001b[0m  \u001b[38;5;28;01mwhile\u001b[39;00m numero \u001b[38;5;241m>\u001b[39m \u001b[38;5;241m0\u001b[39m:\n\u001b[0;32m      5\u001b[0m      resto \u001b[38;5;241m=\u001b[39m numero \u001b[38;5;241m%\u001b[39m \u001b[38;5;241m2\u001b[39m\n",
      "\u001b[1;31mNameError\u001b[0m: name 'Stack' is not defined"
     ]
    }
   ],
   "source": [
    "# TESTANDO\n",
    "n = int(input('Entre com um número inteiro: '))\n",
    "print(f\"O valor {n} em binário é: {decimal_binario(n)}\") "
   ]
  },
  {
   "cell_type": "markdown",
   "metadata": {},
   "source": [
    "### Fim Teoria Aula 6"
   ]
  }
 ],
 "metadata": {
  "colab": {
   "provenance": []
  },
  "kernelspec": {
   "display_name": "Python 3 (ipykernel)",
   "language": "python",
   "name": "python3"
  },
  "language_info": {
   "codemirror_mode": {
    "name": "ipython",
    "version": 3
   },
   "file_extension": ".py",
   "mimetype": "text/x-python",
   "name": "python",
   "nbconvert_exporter": "python",
   "pygments_lexer": "ipython3",
   "version": "3.13.5"
  }
 },
 "nbformat": 4,
 "nbformat_minor": 4
}
