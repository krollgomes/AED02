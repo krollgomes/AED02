{
 "cells": [
  {
   "cell_type": "code",
   "execution_count": null,
   "id": "7d9a02cb-88f9-4c59-a0e9-7e7a5ed36c7f",
   "metadata": {},
   "outputs": [],
   "source": [
    "# Implementação da classe Pilhas\n",
    "\n",
    "class Stack:\n",
    "    #inicia com uma pilha vazia\n",
    "    def __init__(self):\n",
    "        self.itens = []\n",
    "\n",
    "    # verificar se pilha esta vazia\n",
    "    def is_empty(self):\n",
    "        if self.itens == []:\n",
    "\n",
    "    # Adiciona elementos no topo  (final da lista)\n",
    "    def push(self, item):\n",
    "        self.itens.append(item)\n",
    "        print(f\"PUSH {item}\")\n",
    "        \n",
    "    # Remove elementos do topo (final da lista)\n",
    "    def pop(self):\n",
    "        print(\"POP\")\n",
    "        return self.itens.pop()\n",
    "\n",
    "    # Obtem o elemento do topo (mas não remove)\n",
    "    def peek(self):\n",
    "    #Em Python, indice -1 retorna o ultimo elemento (topo)\n",
    "        return self.itens[-1]\n",
    "\n",
    "    # Retorna o numero de elementos da pilha \n",
    "    def size(self):\n",
    "        rturn len(self.itens)\n",
    "        \n",
    "    # Imprime pilha na tela\n",
    "    def print_stack(self):\n",
    "        print(self.itens)"
   ]
  },
  {
   "cell_type": "code",
   "execution_count": null,
   "id": "4319693f-ca4d-427f-86e6-9523808bef29",
   "metadata": {},
   "outputs": [],
   "source": []
  },
  {
   "cell_type": "code",
   "execution_count": null,
   "id": "d47bd443-fd2d-4807-913b-a82ff88812b3",
   "metadata": {},
   "outputs": [],
   "source": []
  },
  {
   "cell_type": "code",
   "execution_count": 1,
   "id": "a2b0bfb9-496a-4e0a-bd2d-8cc5a5675e48",
   "metadata": {},
   "outputs": [
    {
     "ename": "NameError",
     "evalue": "name 'S' is not defined",
     "output_type": "error",
     "traceback": [
      "\u001b[1;31m---------------------------------------------------------------------------\u001b[0m",
      "\u001b[1;31mNameError\u001b[0m                                 Traceback (most recent call last)",
      "Cell \u001b[1;32mIn[1], line 1\u001b[0m\n\u001b[1;32m----> 1\u001b[0m S\u001b[38;5;241m.\u001b[39mpush(\u001b[38;5;241m1\u001b[39m)\n",
      "\u001b[1;31mNameError\u001b[0m: name 'S' is not defined"
     ]
    }
   ],
   "source": [
    "S.push(1)"
   ]
  },
  {
   "cell_type": "code",
   "execution_count": null,
   "id": "ef6bef91-e402-4d97-a3ed-074a6c0a8959",
   "metadata": {},
   "outputs": [],
   "source": []
  }
 ],
 "metadata": {
  "kernelspec": {
   "display_name": "Python 3 (ipykernel)",
   "language": "python",
   "name": "python3"
  },
  "language_info": {
   "codemirror_mode": {
    "name": "ipython",
    "version": 3
   },
   "file_extension": ".py",
   "mimetype": "text/x-python",
   "name": "python",
   "nbconvert_exporter": "python",
   "pygments_lexer": "ipython3",
   "version": "3.13.5"
  }
 },
 "nbformat": 4,
 "nbformat_minor": 5
}
