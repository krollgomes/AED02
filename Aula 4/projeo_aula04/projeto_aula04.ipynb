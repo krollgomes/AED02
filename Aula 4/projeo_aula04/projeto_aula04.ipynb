{
 "cells": [
  {
   "cell_type": "code",
   "execution_count": null,
   "id": "5275bdf1-5904-47c2-b4c8-89e6ff690d50",
   "metadata": {},
   "outputs": [],
   "source": []
  },
  {
   "cell_type": "code",
   "execution_count": 2,
   "id": "474fd3b0-1d33-4f0c-9c1c-61c077536e11",
   "metadata": {},
   "outputs": [],
   "source": [
    "# Busca Eficiente em um Índice de Livros \n",
    "# Contexto: Você está trabalhando em um projeto para gerenciar uma biblioteca. As informações sobre os livros (título, autor, ano de publicação) estão armazenadas em\n",
    "#uma lista, e essa lista é mantida ordenada alfabeticamente\n",
    "#pelo título do livro.\n",
    "\n",
    "# Problema: Os usuários precisam encontrar rapidamente um livro específico sabendo seu título. Uma busca\n",
    "# ineficiente pode dificultar a localização dos livrosdesejados."
   ]
  },
  {
   "cell_type": "code",
   "execution_count": 22,
   "id": "dc71caa7-c1aa-415b-90f0-8f377adf9d55",
   "metadata": {},
   "outputs": [
    {
     "name": "stdin",
     "output_type": "stream",
     "text": [
      "Digite o nome do livro:  duna\n"
     ]
    },
    {
     "name": "stdout",
     "output_type": "stream",
     "text": [
      "Livro não encontrado.\n"
     ]
    }
   ],
   "source": [
    "# Célula 1: Definição da função de busca binária\n",
    "def busca_binaria(v, lista_ord):\n",
    "    esquerda = 0\n",
    "    direita = len(lista_ord) - 1\n",
    "\n",
    "    while esquerda <= direita:\n",
    "        meio = (esquerda + direita) // 2\n",
    "        \n",
    "        # Pega o título do livro no meio para fazer a comparação\n",
    "        titulo_livro = lista_ord[meio]['titulo']\n",
    "        \n",
    "        # Compara o valor 'v' (o que o usuário digitou) com o título do livro no meio\n",
    "        if v == titulo_livro:\n",
    "            return meio  # Encontrou o livro, retorna o índice\n",
    "        elif v < titulo_livro:\n",
    "            direita = meio - 1  # O livro está na metade esquerda\n",
    "        else:\n",
    "            esquerda = meio + 1  # O livro está na metade direita\n",
    "    \n",
    "    return -1  # Se o loop terminar, o livro não foi encontrado\n",
    "\n",
    "\n",
    "# Célula 2: Definição da lista de livros\n",
    "livros = [\n",
    "    {\"titulo\": \"A Bela e a Fera\", \"autor\": \"Autor A\", \"ano\": 1998},\n",
    "    {\"titulo\": \"Duna\", \"autor\": \"Autor C\", \"ano\": 2000},\n",
    "    {\"titulo\": \"Harry Potter\", \"autor\": \"Autor B\", \"ano\": 2005},\n",
    "]\n",
    "\n",
    "\n",
    "# Célula 3: Lógica de teste\n",
    "livro = input(\"Digite o nome do livro: \")\n",
    "\n",
    "indice = busca_binaria(livro, livros)\n",
    "\n",
    "if indice != -1:\n",
    "    achado = livros[indice]\n",
    "    print(f\"Livro encontrado: {achado['titulo']} ({achado['autor']})\")\n",
    "else:\n",
    "    print(\"Livro não encontrado.\")"
   ]
  },
  {
   "cell_type": "code",
   "execution_count": null,
   "id": "b56f4783-0b89-4980-8288-48ec584ceec3",
   "metadata": {},
   "outputs": [],
   "source": []
  },
  {
   "cell_type": "code",
   "execution_count": null,
   "id": "a04bcb2e-ae75-4973-aa7f-577336d6b88f",
   "metadata": {},
   "outputs": [],
   "source": []
  },
  {
   "cell_type": "code",
   "execution_count": null,
   "id": "fb73e6e7-eb6b-4e3c-83b4-8964ef202d48",
   "metadata": {},
   "outputs": [],
   "source": []
  },
  {
   "cell_type": "code",
   "execution_count": null,
   "id": "383a6ed6-9b10-49de-8473-560458b88f86",
   "metadata": {},
   "outputs": [],
   "source": []
  }
 ],
 "metadata": {
  "kernelspec": {
   "display_name": "Python 3 (ipykernel)",
   "language": "python",
   "name": "python3"
  },
  "language_info": {
   "codemirror_mode": {
    "name": "ipython",
    "version": 3
   },
   "file_extension": ".py",
   "mimetype": "text/x-python",
   "name": "python",
   "nbconvert_exporter": "python",
   "pygments_lexer": "ipython3",
   "version": "3.12.7"
  }
 },
 "nbformat": 4,
 "nbformat_minor": 5
}
