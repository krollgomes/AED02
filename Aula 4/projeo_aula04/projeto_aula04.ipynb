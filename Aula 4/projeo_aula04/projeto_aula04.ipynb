{
 "cells": [
  {
   "cell_type": "code",
   "execution_count": null,
   "id": "5275bdf1-5904-47c2-b4c8-89e6ff690d50",
   "metadata": {},
   "outputs": [],
   "source": []
  },
  {
   "cell_type": "code",
   "execution_count": 2,
   "id": "474fd3b0-1d33-4f0c-9c1c-61c077536e11",
   "metadata": {},
   "outputs": [],
   "source": [
    "# Busca Eficiente em um Índice de Livros \n",
    "# Contexto: Você está trabalhando em um projeto para gerenciar uma biblioteca. As informações sobre os livros (título, autor, ano de publicação) estão armazenadas em\n",
    "#uma lista, e essa lista é mantida ordenada alfabeticamente\n",
    "#pelo título do livro.\n",
    "\n",
    "# Problema: Os usuários precisam encontrar rapidamente um livro específico sabendo seu título. Uma busca\n",
    "# ineficiente pode dificultar a localização dos livrosdesejados."
   ]
  },
  {
   "cell_type": "code",
   "execution_count": 43,
   "id": "dc71caa7-c1aa-415b-90f0-8f377adf9d55",
   "metadata": {},
   "outputs": [],
   "source": [
    "def busca_binaria(v, lista_ord):\n",
    "    esquerda = 0\n",
    "    direita = len(lista_ord) - 1\n",
    "    while esquerda <= direita:\n",
    "        meio = (esquerda + direita) // 2\n",
    "        titulo = lista_ord[meio][0]  # pegar só o título\n",
    "        if v == titulo:\n",
    "            return meio\n",
    "        elif v < titulo:\n",
    "            direita = meio - 1\n",
    "        else:\n",
    "            esquerda = meio + 1\n",
    "    return -1"
   ]
  },
  {
   "cell_type": "code",
   "execution_count": 44,
   "id": "f817be01-4c9e-47a2-8614-e1da0b2e70b9",
   "metadata": {},
   "outputs": [],
   "source": [
    "livros = [\n",
    "    {\"titulo\": \"A Bela e a Fera\", \"autor\": \"Autor A\", \"ano\": 1990},\n",
    "    {\"titulo\": \"Duna\", \"autor\": \"Autor C\", \"ano\": 2000},\n",
    "    {\"titulo\": \"Harry Potter\", \"autor\": \"Autor B\", \"ano\": 2005}\n",
    "]"
   ]
  },
  {
   "cell_type": "code",
   "execution_count": 46,
   "id": "8468826c-abd1-406d-b216-b772f4b8a486",
   "metadata": {},
   "outputs": [
    {
     "ename": "SyntaxError",
     "evalue": "unterminated f-string literal (detected at line 8) (1425144489.py, line 8)",
     "output_type": "error",
     "traceback": [
      "\u001b[1;36m  Cell \u001b[1;32mIn[46], line 8\u001b[1;36m\u001b[0m\n\u001b[1;33m    print(f\"Livro encontrado: {achado['titulo']} ({achado['autor']}\u001b[0m\n\u001b[1;37m          ^\u001b[0m\n\u001b[1;31mSyntaxError\u001b[0m\u001b[1;31m:\u001b[0m unterminated f-string literal (detected at line 8)\n"
     ]
    }
   ],
   "source": [
    "livro = input(\"Digite o nome do livro: \")\n",
    "\n",
    "indice = busca_binaria(livro, livros)\n",
    "\n",
    "if indice != -1:\n",
    "    print(f\"Livro encontrado: {livrosl[indice]}\")\n",
    "else:\n",
    "    print(f\"Livro encontrado: {achado['titulo']} ({achado['autor']}"
   ]
  },
  {
   "cell_type": "code",
   "execution_count": null,
   "id": "b56f4783-0b89-4980-8288-48ec584ceec3",
   "metadata": {},
   "outputs": [],
   "source": []
  },
  {
   "cell_type": "code",
   "execution_count": null,
   "id": "a04bcb2e-ae75-4973-aa7f-577336d6b88f",
   "metadata": {},
   "outputs": [],
   "source": []
  },
  {
   "cell_type": "code",
   "execution_count": null,
   "id": "fb73e6e7-eb6b-4e3c-83b4-8964ef202d48",
   "metadata": {},
   "outputs": [],
   "source": []
  },
  {
   "cell_type": "code",
   "execution_count": null,
   "id": "383a6ed6-9b10-49de-8473-560458b88f86",
   "metadata": {},
   "outputs": [],
   "source": []
  }
 ],
 "metadata": {
  "kernelspec": {
   "display_name": "Python 3 (ipykernel)",
   "language": "python",
   "name": "python3"
  },
  "language_info": {
   "codemirror_mode": {
    "name": "ipython",
    "version": 3
   },
   "file_extension": ".py",
   "mimetype": "text/x-python",
   "name": "python",
   "nbconvert_exporter": "python",
   "pygments_lexer": "ipython3",
   "version": "3.13.5"
  }
 },
 "nbformat": 4,
 "nbformat_minor": 5
}
