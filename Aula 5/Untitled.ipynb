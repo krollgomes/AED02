{
 "cells": [
  {
   "cell_type": "code",
   "execution_count": 5,
   "id": "4d3f73f0-ec41-401a-96cd-b4878af22887",
   "metadata": {},
   "outputs": [],
   "source": [
    "class Automovel:\n",
    "    pass\n",
    "meu_carro = Automovel()\n"
   ]
  },
  {
   "cell_type": "code",
   "execution_count": 6,
   "id": "9d941e68-d405-456e-bdc5-e3dc8c28ee43",
   "metadata": {},
   "outputs": [
    {
     "ename": "SyntaxError",
     "evalue": "invalid syntax (940952182.py, line 1)",
     "output_type": "error",
     "traceback": [
      "\u001b[1;36m  Cell \u001b[1;32mIn[6], line 1\u001b[1;36m\u001b[0m\n\u001b[1;33m    def__init__(self, placa='xx-123'):\u001b[0m\n\u001b[1;37m                                     ^\u001b[0m\n\u001b[1;31mSyntaxError\u001b[0m\u001b[1;31m:\u001b[0m invalid syntax\n"
     ]
    }
   ],
   "source": [
    "def__init__(self, placa='xx-123'):\n",
    "  self.placa = placa\n",
    "\n",
    "def get_placa(self):\n",
    "    return self.placa\n",
    "\n",
    "def dirigir(self, velocidade):\n",
    "    print(\"Estou dirigindo a %d\"/\n",
    "          'km/h' % velocidade"
   ]
  },
  {
   "cell_type": "code",
   "execution_count": null,
   "id": "c4e2beba-d956-43de-be2d-28313a87fdcc",
   "metadata": {},
   "outputs": [],
   "source": []
  },
  {
   "cell_type": "code",
   "execution_count": null,
   "id": "f660c7d4-5624-46fa-988e-87289091d334",
   "metadata": {},
   "outputs": [],
   "source": []
  }
 ],
 "metadata": {
  "kernelspec": {
   "display_name": "Python 3 (ipykernel)",
   "language": "python",
   "name": "python3"
  },
  "language_info": {
   "codemirror_mode": {
    "name": "ipython",
    "version": 3
   },
   "file_extension": ".py",
   "mimetype": "text/x-python",
   "name": "python",
   "nbconvert_exporter": "python",
   "pygments_lexer": "ipython3",
   "version": "3.13.5"
  }
 },
 "nbformat": 4,
 "nbformat_minor": 5
}
